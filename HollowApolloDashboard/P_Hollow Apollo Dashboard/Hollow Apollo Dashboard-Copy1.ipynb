{
 "cells": [
  {
   "cell_type": "markdown",
   "metadata": {
    "deletable": true,
    "editable": true
   },
   "source": [
    "## TODO\n",
    "\n",
    "- Seperate Application to merge all DFs\n",
    "- [X] Layout with grid to eliminate all the extra icons\n",
    "- fix the tools availble to the user\n",
    "- Create Dataframes for each CSV found in a directory\n",
    "- Selection of Location\n",
    "- Selection of CSV files\n",
    "\n",
    "- Ask advice from Naomi\n"
   ]
  },
  {
   "cell_type": "code",
   "execution_count": 1,
   "metadata": {
    "collapsed": false,
    "deletable": true,
    "editable": true
   },
   "outputs": [],
   "source": [
    "import pandas as pd\n",
    "import numpy as np\n",
    "import statsmodels.api as sm\n",
    "import os\n",
    "\n",
    "\n",
    "from bokeh.layouts import layout, column, row, gridplot\n",
    "from bokeh.models import CustomJS, Slider, ColumnDataSource, WidgetBox\n",
    "from bokeh.plotting import figure, show, output_notebook, output_file\n",
    "\n",
    "#output_notebook()"
   ]
  },
  {
   "cell_type": "code",
   "execution_count": null,
   "metadata": {
    "collapsed": true,
    "deletable": true,
    "editable": true
   },
   "outputs": [],
   "source": []
  },
  {
   "cell_type": "code",
   "execution_count": 2,
   "metadata": {
    "collapsed": false,
    "deletable": true,
    "editable": true
   },
   "outputs": [
    {
     "data": {
      "application/javascript": [
       "IPython.OutputArea.prototype._should_scroll = function(lines) {\n",
       "    return false;\n",
       "}"
      ],
      "text/plain": [
       "<IPython.core.display.Javascript object>"
      ]
     },
     "metadata": {},
     "output_type": "display_data"
    }
   ],
   "source": []
  },
  {
   "cell_type": "code",
   "execution_count": 3,
   "metadata": {
    "collapsed": false,
    "deletable": true,
    "editable": true
   },
   "outputs": [
    {
     "data": {
      "text/plain": [
       "['datetime',\n",
       " ' TC_4',\n",
       " ' TC_3',\n",
       " ' TC_2',\n",
       " ' TC_1',\n",
       " ' TC_8',\n",
       " ' TC_7',\n",
       " ' TC_6',\n",
       " ' TC_5',\n",
       " 'Fan R',\n",
       " 'Fan L',\n",
       " 'T_R',\n",
       " 'RH_R',\n",
       " 'T_L',\n",
       " 'RH_L',\n",
       " 'T_Out',\n",
       " 'RH_Out',\n",
       " 'Unnamed: 17']"
      ]
     },
     "execution_count": 3,
     "metadata": {},
     "output_type": "execute_result"
    }
   ],
   "source": []
  },
  {
   "cell_type": "code",
   "execution_count": 4,
   "metadata": {
    "collapsed": false,
    "deletable": true,
    "editable": true
   },
   "outputs": [],
   "source": [
    "def calculateDewPoint(t, rh):\n",
    "    '''Based on the August-Roche-Magnus approximation, considered valid for:\n",
    "        0 ºC < T < 60 ºC\n",
    "        1% < RH < 100%\n",
    "        0 ºC < Td < 50 ºC'''\n",
    "    a = 17.625\n",
    "    b = 243.04\n",
    "    rh = (rh/100)\n",
    "    \n",
    "    T_d = ( b * ( np.log(rh) + (a*t)/(b+t) )) / (a - np.log(rh) - (a*t)/(b+t))\n",
    "    return T_d"
   ]
  },
  {
   "cell_type": "code",
   "execution_count": 5,
   "metadata": {
    "collapsed": false,
    "deletable": true,
    "editable": true
   },
   "outputs": [],
   "source": [
    "plot_config = dict(tools=\"pan, xwheel_zoom, box_select, save\")\n",
    "\n",
    "def plotChamber(side, x_range, y_range, w=600, h=450):\n",
    "    '''Generate Chamber Condition Plots and pass back x range for all plots'''\n",
    "    x = df['datetime'].values\n",
    "    \n",
    "    if side == \"Left\":\n",
    "        cols = ['T_L', 'RH_L', 'T_Out', 'RH_Out']\n",
    "    else:\n",
    "        cols = ['T_R', 'RH_R', 'T_Out', 'RH_Out']\n",
    "    \n",
    "    #calculate dew points\n",
    "    dp = calculateDewPoint(df[cols[0]].values, df[cols[1]].values)\n",
    "    dp_o = calculateDewPoint(df[cols[2]].values, df[cols[3]].values)\n",
    "    \n",
    "    p = figure(\n",
    "        title=\"{} Chamber Conditions\".format(side),\n",
    "        y_axis_label='Chamber Temperature/RH, C/%',\n",
    "        x_axis_type=\"datetime\",\n",
    "        height=h,\n",
    "        width=w,\n",
    "        **plot_config\n",
    "    ) \n",
    "    \n",
    "    p.line(x, df[cols[0]].values, legend=\"Inside Temperature\", line_color=\"red\")\n",
    "    \n",
    "    #p.line(x, dp, legend=\"Inside Dew Point\", line_color=\"blue\")\n",
    "    p.line(x, df[cols[1]].values, legend=\"Inside RH\", line_color=\"blue\")\n",
    "    \n",
    "    p.line(x, df[cols[2]].values, legend=\"Outside Temperature\", line_dash=\"4 4\", line_width=1, line_color=\"red\")\n",
    "    #p.line(x, dp_o, legend=\"Outside Dew Point\", line_dash=\"4 4\", line_width=1, line_color=\"blue\")\n",
    "    p.line(x, df[cols[3]].values, legend=\"Outside RH\", line_dash=\"4 4\", line_width=1, line_color=\"blue\")\n",
    "        \n",
    "    if x_range is None:\n",
    "        x_range = p.x_range\n",
    "        y_range = p.y_range\n",
    "    else:\n",
    "        p.x_range = x_range\n",
    "        p.y_range = y_range\n",
    "        \n",
    "    return p, x_range, y_range\n",
    "    \n",
    "    \n",
    "    \n",
    "\n",
    "def plotThermocouples(side, x_range, y_range, w=600, h=150): \n",
    "    '''Generate TC plots'''\n",
    "    x = df['datetime'].values\n",
    "    \n",
    "    if side == \"Left\":\n",
    "        cols = [' TC_1', ' TC_2', ' TC_3', ' TC_4' ]\n",
    "    else:\n",
    "        cols = [' TC_5', ' TC_6', ' TC_7', ' TC_8' ]\n",
    "        \n",
    "    ylabel = 'Temperature, C'\n",
    "    \n",
    "    p1 = figure(\n",
    "        #title=\"Heater Values\",\n",
    "        y_range=[0, 120],\n",
    "        #x_axis_label='Time' \n",
    "        y_axis_label=ylabel,\n",
    "        x_axis_type=\"datetime\",\n",
    "        x_range=x_range,\n",
    "        width=w, height=h\n",
    "    )\n",
    "    \n",
    "    if y_range is None:\n",
    "        y_range = p1.y_range\n",
    "    else:\n",
    "        p1.y_range = y_range\n",
    "        \n",
    "    col = cols[0]\n",
    "    \n",
    "    p1.line(x, df[col].values, legend = col, color=\"red\")\n",
    "    \n",
    "    col = cols[1]\n",
    "    p2 = figure(x_range=x_range, x_axis_type=\"datetime\", \n",
    "                y_axis_label=ylabel, y_range=y_range,\n",
    "               width=w, height=h)\n",
    "    p2.line(x, df[col].values, legend=col, line_color=\"red\")\n",
    "    \n",
    "    col = cols[2]\n",
    "    p3 = figure(x_range=x_range, x_axis_type=\"datetime\", \n",
    "                y_axis_label=ylabel, y_range=y_range,\n",
    "               width=w, height=h)\n",
    "    p3.line(x, df[col].values, legend=col, line_color=\"red\")\n",
    "    \n",
    "    col = cols[3]\n",
    "    p4 = figure(x_range=x_range, x_axis_type=\"datetime\", \n",
    "                y_axis_label=ylabel, y_range=y_range,\n",
    "               width=w, height=h)\n",
    "    p4.line(x, df[col].values, legend=col, line_color=\"red\")\n",
    "\n",
    "    return p1, p2, p3, p4, y_range\n",
    "\n",
    "    \n",
    "def plotFans(side, x_range, y_range, w=600, h=150):\n",
    "    '''Generate Fan Plots'''\n",
    "    x = df['datetime'].values\n",
    "    \n",
    "    if side == \"Left\":\n",
    "        fan = df['Fan L'].values\n",
    "    else:\n",
    "        fan = df['Fan R'].values\n",
    "    \n",
    "    p = figure(\n",
    "        y_axis_label='Fan Current, mA',\n",
    "        x_axis_type=\"datetime\", \n",
    "        x_range=x_range,\n",
    "        width=w, height=h \n",
    "    )\n",
    "    \n",
    "    if y_range is None:\n",
    "        y_range = p.y_range\n",
    "    else:\n",
    "        p.y_range = y_range\n",
    "    \n",
    "    # Define Bollinger Bands.\n",
    "    # filter the noisy data and band it\n",
    "    #filtered  = sm.nonparametric.lowess(fan, x,  is_sorted=True, frac=0.005, it=0)\n",
    "    #upperband = filtered[:,1]\n",
    "    \n",
    "    upperband = fan\n",
    "    lowerband = np.zeros_like(upperband)\n",
    "\n",
    "    # Bollinger shading glyph:\n",
    "    band_x = np.append(x, x[::-1])\n",
    "    band_y = np.append(lowerband, upperband[::-1])\n",
    "    \n",
    "    p.patch(band_x, band_y, color='#7570B3', fill_alpha=0.2)\n",
    "    \n",
    "    return p, y_range\n",
    "    "
   ]
  },
  {
   "cell_type": "code",
   "execution_count": 6,
   "metadata": {
    "collapsed": false,
    "deletable": true,
    "editable": true,
    "scrolled": true
   },
   "outputs": [],
   "source": [
    "# Generate plots\n",
    "# Share the x_range between all plots\n",
    "# Share the y_range between plots of similar measurement (ex temperature)\n",
    "cl, xr, yr = plotChamber(\"Left\", None, None)\n",
    "cr, __, __ = plotChamber(\"Right\", xr, yr)\n",
    "\n",
    "fl, yr = plotFans(\"Left\", xr, None)\n",
    "fr, __ = plotFans(\"Right\", xr, yr)\n",
    "\n",
    "tc1, tc2, tc3, tc4, yr = plotThermocouples(\"Left\", xr, None)\n",
    "tc5, tc6, tc7, tc8, __ = plotThermocouples(\"Right\", xr, yr)\n",
    "\n",
    "# Save the file as an HTML\n",
    "output_file('Hollow Apollo Dashboard.html')  \n",
    "\n",
    "p = gridplot([\n",
    "        [cl, cr],\n",
    "        [fl, fr], \n",
    "        [tc1, tc5], \n",
    "        [tc2, tc6], \n",
    "        [tc3, tc7], \n",
    "        [tc4, tc8]], )\n",
    "\n",
    "# Display the output in a seperate window\n",
    "show(p)\n"
   ]
  },
  {
   "cell_type": "code",
   "execution_count": null,
   "metadata": {
    "collapsed": true,
    "deletable": true,
    "editable": true
   },
   "outputs": [],
   "source": []
  },
  {
   "cell_type": "code",
   "execution_count": null,
   "metadata": {
    "collapsed": false,
    "deletable": true,
    "editable": true
   },
   "outputs": [],
   "source": []
  },
  {
   "cell_type": "code",
   "execution_count": null,
   "metadata": {
    "collapsed": false,
    "deletable": true,
    "editable": true
   },
   "outputs": [],
   "source": []
  },
  {
   "cell_type": "code",
   "execution_count": null,
   "metadata": {
    "collapsed": true,
    "deletable": true,
    "editable": true
   },
   "outputs": [],
   "source": []
  },
  {
   "cell_type": "code",
   "execution_count": null,
   "metadata": {
    "collapsed": true,
    "deletable": true,
    "editable": true
   },
   "outputs": [],
   "source": []
  }
 ],
 "metadata": {
  "anaconda-cloud": {},
  "kernelspec": {
   "display_name": "Python 3",
   "language": "python",
   "name": "python3"
  },
  "language_info": {
   "codemirror_mode": {
    "name": "ipython",
    "version": 3
   },
   "file_extension": ".py",
   "mimetype": "text/x-python",
   "name": "python",
   "nbconvert_exporter": "python",
   "pygments_lexer": "ipython3",
   "version": "3.5.2"
  }
 },
 "nbformat": 4,
 "nbformat_minor": 0
}
